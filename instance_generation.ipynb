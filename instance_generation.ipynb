{
 "cells": [
  {
   "cell_type": "code",
   "execution_count": 1,
   "metadata": {},
   "outputs": [],
   "source": [
    "import numpy as np\n",
    "import re\n",
    "import networkx as nx\n",
    "import random\n",
    "import matplotlib.pyplot as plt\n",
    "import os\n",
    "import glob\n",
    "from ALB_instance_tools import *\n",
    "from scenario_trees import *\n",
    "import copy\n",
    "from MALBP_instance_generation import *"
   ]
  },
  {
   "cell_type": "markdown",
   "metadata": {},
   "source": [
    "## Making production sequences\n"
   ]
  },
  {
   "cell_type": "code",
   "execution_count": 2,
   "metadata": {},
   "outputs": [
    {
     "name": "stdout",
     "output_type": "stream",
     "text": [
      "Sampling  5 with seed  None\n",
      "final sequences {0: {'sequence': ['B', 'B', 'A', 'B', 'B'], 'probability': 0.2}, 1: {'sequence': ['A', 'A', 'A', 'C', 'C'], 'probability': 0.2}, 2: {'sequence': ['B', 'C', 'C', 'C', 'C'], 'probability': 0.2}, 3: {'sequence': ['A', 'A', 'C', 'C', 'C'], 'probability': 0.2}, 4: {'sequence': ['C', 'C', 'B', 'A', 'A'], 'probability': 0.2}}\n",
      "          sequence probability\n",
      "0  [B, B, A, B, B]         0.2\n",
      "          sequence probability\n",
      "0  [A, A, A, C, C]         0.2\n",
      "          sequence probability\n",
      "0  [B, C, C, C, C]         0.2\n",
      "          sequence probability\n",
      "0  [A, A, C, C, C]         0.2\n",
      "          sequence probability\n",
      "0  [C, C, B, A, A]         0.2\n",
      "writing to file  SALBP_benchmark/MM_instances/scenario_trees/5_takts_5_samples_3_models.csv\n",
      "          sequence probability\n",
      "0  [B, B, A, B, B]         0.2\n",
      "1  [A, A, A, C, C]         0.2\n",
      "2  [B, C, C, C, C]         0.2\n",
      "3  [A, A, C, C, C]         0.2\n",
      "4  [C, C, B, A, A]         0.2\n"
     ]
    }
   ],
   "source": [
    "MODEL_MIXTURES = {'A':0.34, 'B':0.33, 'C':0.33}\n",
    "#mc_seq = monte_carlo_tree(5, MODEL_MIXTURES, enum_depth=0 , n_samples=5)\n",
    "generate_tree_csv(monte_carlo_tree_limit, 5, MODEL_MIXTURES, enum_depth=0 , n_samples=5, filename='SALBP_benchmark/MM_instances/scenario_trees/5_takts_5_samples_3_models.csv')"
   ]
  },
  {
   "cell_type": "markdown",
   "metadata": {},
   "source": [
    "## Making model instances"
   ]
  },
  {
   "cell_type": "code",
   "execution_count": 2,
   "metadata": {},
   "outputs": [],
   "source": [
    "import yaml\n",
    "NO_EQUIPMENT = 4\n",
    "seed = 1\n",
    "NO_WORKERS =4\n",
    "NO_STATIONS = 2\n",
    "WORKER_COST = 500\n",
    "RECOURSE_COST = WORKER_COST * 2\n",
    "TAKT_TIME = 500\n",
    "SEQUENCE_LENGTH = 3\n",
    "#MODEL_MIXTURES = {'A':0.34, 'B':0.33, 'C':0.33}\n",
    "# MODEL_MIXTURES = {'A':0.60, 'B':0.40}\n",
    "\n",
    "instances = [\n",
    "    {'fp': 'SALBP_benchmark/small data set_n=20/instance_n=20_200.alb', 'name': 'A', 'probability': 0.6},\n",
    "     #{'fp': 'SALBP_benchmark/small data set_n=20/instance_n=20_17.alb', 'name': 'C', 'probability': 0.4},\n",
    "     {'fp': 'SALBP_benchmark/small data set_n=20/instance_n=20_16.alb', 'name': 'B', 'probability': 0.4}]\n",
    "#mm_instance = MultiModelInstance( init_type='from_yaml',mm_yaml_file='/Users/letshopethisworks2/Documents/Phd Paper material/MMABPWW/SALBP_benchmark/MM_instances/n=20_1_n=20_2_n=20_3_.yaml', sequence_length=SEQUENCE_LENGTH, max_workers=NO_WORKERS, no_stations=NO_STATIONS, worker_cost=WORKER_COST, recourse_cost=RECOURSE_COST)\n"
   ]
  },
  {
   "cell_type": "markdown",
   "metadata": {},
   "source": [
    "small_instances = get_instance_list('SALBP_benchmark/MM_instances/model_data', extension='.yaml')\n",
    "instance_groups = pair_instances(instances, MODEL_MIXTURES)\n",
    "mm_instance = MultiModelTaskTimesInstance(model_dicts=instances, takt_time=TAKT_TIME, sequence_length=SEQUENCE_LENGTH, max_workers=NO_WORKERS, no_stations=NO_STATIONS, worker_cost=WORKER_COST, recourse_cost=RECOURSE_COST)\n",
    "\n",
    "print(mm_instance.name)\n",
    "print(mm_instance.data)\n",
    "print(mm_instance.takt_time)\n",
    "\n",
    "\n",
    "mm_instance.genererate_task_times(change_func=change_task_times_linear)\n",
    "\n",
    "mm_instance.model_data_to_yaml(f'SALBP_benchmark/MM_instances/model_data/')\n",
    "\n",
    "\n",
    "save_MALBPW_config('small_instance', NO_WORKERS, NO_STATIONS, \n",
    "                   WORKER_COST, RECOURSE_COST, SEQUENCE_LENGTH, \n",
    "                   'SALBP_benchmark/MM_instances/small_instance_config.yaml', \n",
    "                   equipment_files =[ 'SALBP_benchmark/MM_instances/equipment_data/random_O20_E4_S4_seed42.yaml'], instance_files=small_instances )\n"
   ]
  },
  {
   "cell_type": "code",
   "execution_count": 6,
   "metadata": {},
   "outputs": [
    {
     "name": "stdout",
     "output_type": "stream",
     "text": [
      "['SALBP_benchmark/small data set_n=20/instance_n=20_1.alb', 'SALBP_benchmark/small data set_n=20/instance_n=20_2.alb', 'SALBP_benchmark/small data set_n=20/instance_n=20_3.alb', 'SALBP_benchmark/small data set_n=20/instance_n=20_4.alb', 'SALBP_benchmark/small data set_n=20/instance_n=20_5.alb', 'SALBP_benchmark/small data set_n=20/instance_n=20_6.alb', 'SALBP_benchmark/small data set_n=20/instance_n=20_7.alb', 'SALBP_benchmark/small data set_n=20/instance_n=20_8.alb', 'SALBP_benchmark/small data set_n=20/instance_n=20_9.alb', 'SALBP_benchmark/small data set_n=20/instance_n=20_10.alb', 'SALBP_benchmark/small data set_n=20/instance_n=20_11.alb', 'SALBP_benchmark/small data set_n=20/instance_n=20_12.alb', 'SALBP_benchmark/small data set_n=20/instance_n=20_13.alb', 'SALBP_benchmark/small data set_n=20/instance_n=20_14.alb', 'SALBP_benchmark/small data set_n=20/instance_n=20_15.alb', 'SALBP_benchmark/small data set_n=20/instance_n=20_16.alb', 'SALBP_benchmark/small data set_n=20/instance_n=20_17.alb', 'SALBP_benchmark/small data set_n=20/instance_n=20_18.alb', 'SALBP_benchmark/small data set_n=20/instance_n=20_19.alb', 'SALBP_benchmark/small data set_n=20/instance_n=20_20.alb', 'SALBP_benchmark/small data set_n=20/instance_n=20_21.alb', 'SALBP_benchmark/small data set_n=20/instance_n=20_22.alb', 'SALBP_benchmark/small data set_n=20/instance_n=20_23.alb', 'SALBP_benchmark/small data set_n=20/instance_n=20_24.alb', 'SALBP_benchmark/small data set_n=20/instance_n=20_25.alb', 'SALBP_benchmark/small data set_n=20/instance_n=20_26.alb', 'SALBP_benchmark/small data set_n=20/instance_n=20_27.alb', 'SALBP_benchmark/small data set_n=20/instance_n=20_28.alb', 'SALBP_benchmark/small data set_n=20/instance_n=20_29.alb', 'SALBP_benchmark/small data set_n=20/instance_n=20_30.alb', 'SALBP_benchmark/small data set_n=20/instance_n=20_31.alb', 'SALBP_benchmark/small data set_n=20/instance_n=20_32.alb', 'SALBP_benchmark/small data set_n=20/instance_n=20_33.alb', 'SALBP_benchmark/small data set_n=20/instance_n=20_34.alb', 'SALBP_benchmark/small data set_n=20/instance_n=20_35.alb', 'SALBP_benchmark/small data set_n=20/instance_n=20_36.alb', 'SALBP_benchmark/small data set_n=20/instance_n=20_37.alb', 'SALBP_benchmark/small data set_n=20/instance_n=20_38.alb', 'SALBP_benchmark/small data set_n=20/instance_n=20_39.alb', 'SALBP_benchmark/small data set_n=20/instance_n=20_40.alb', 'SALBP_benchmark/small data set_n=20/instance_n=20_41.alb', 'SALBP_benchmark/small data set_n=20/instance_n=20_42.alb', 'SALBP_benchmark/small data set_n=20/instance_n=20_43.alb', 'SALBP_benchmark/small data set_n=20/instance_n=20_44.alb', 'SALBP_benchmark/small data set_n=20/instance_n=20_45.alb', 'SALBP_benchmark/small data set_n=20/instance_n=20_46.alb', 'SALBP_benchmark/small data set_n=20/instance_n=20_47.alb', 'SALBP_benchmark/small data set_n=20/instance_n=20_48.alb', 'SALBP_benchmark/small data set_n=20/instance_n=20_49.alb', 'SALBP_benchmark/small data set_n=20/instance_n=20_50.alb', 'SALBP_benchmark/small data set_n=20/instance_n=20_51.alb', 'SALBP_benchmark/small data set_n=20/instance_n=20_52.alb', 'SALBP_benchmark/small data set_n=20/instance_n=20_53.alb', 'SALBP_benchmark/small data set_n=20/instance_n=20_54.alb', 'SALBP_benchmark/small data set_n=20/instance_n=20_55.alb', 'SALBP_benchmark/small data set_n=20/instance_n=20_56.alb', 'SALBP_benchmark/small data set_n=20/instance_n=20_57.alb', 'SALBP_benchmark/small data set_n=20/instance_n=20_58.alb', 'SALBP_benchmark/small data set_n=20/instance_n=20_59.alb', 'SALBP_benchmark/small data set_n=20/instance_n=20_60.alb', 'SALBP_benchmark/small data set_n=20/instance_n=20_61.alb', 'SALBP_benchmark/small data set_n=20/instance_n=20_62.alb', 'SALBP_benchmark/small data set_n=20/instance_n=20_63.alb', 'SALBP_benchmark/small data set_n=20/instance_n=20_64.alb', 'SALBP_benchmark/small data set_n=20/instance_n=20_65.alb', 'SALBP_benchmark/small data set_n=20/instance_n=20_66.alb', 'SALBP_benchmark/small data set_n=20/instance_n=20_67.alb', 'SALBP_benchmark/small data set_n=20/instance_n=20_68.alb', 'SALBP_benchmark/small data set_n=20/instance_n=20_69.alb', 'SALBP_benchmark/small data set_n=20/instance_n=20_70.alb', 'SALBP_benchmark/small data set_n=20/instance_n=20_71.alb', 'SALBP_benchmark/small data set_n=20/instance_n=20_72.alb', 'SALBP_benchmark/small data set_n=20/instance_n=20_73.alb', 'SALBP_benchmark/small data set_n=20/instance_n=20_74.alb', 'SALBP_benchmark/small data set_n=20/instance_n=20_75.alb', 'SALBP_benchmark/small data set_n=20/instance_n=20_76.alb', 'SALBP_benchmark/small data set_n=20/instance_n=20_77.alb', 'SALBP_benchmark/small data set_n=20/instance_n=20_78.alb', 'SALBP_benchmark/small data set_n=20/instance_n=20_79.alb', 'SALBP_benchmark/small data set_n=20/instance_n=20_80.alb', 'SALBP_benchmark/small data set_n=20/instance_n=20_81.alb', 'SALBP_benchmark/small data set_n=20/instance_n=20_82.alb', 'SALBP_benchmark/small data set_n=20/instance_n=20_83.alb', 'SALBP_benchmark/small data set_n=20/instance_n=20_84.alb', 'SALBP_benchmark/small data set_n=20/instance_n=20_85.alb', 'SALBP_benchmark/small data set_n=20/instance_n=20_86.alb', 'SALBP_benchmark/small data set_n=20/instance_n=20_87.alb', 'SALBP_benchmark/small data set_n=20/instance_n=20_88.alb', 'SALBP_benchmark/small data set_n=20/instance_n=20_89.alb', 'SALBP_benchmark/small data set_n=20/instance_n=20_90.alb', 'SALBP_benchmark/small data set_n=20/instance_n=20_91.alb', 'SALBP_benchmark/small data set_n=20/instance_n=20_92.alb', 'SALBP_benchmark/small data set_n=20/instance_n=20_93.alb', 'SALBP_benchmark/small data set_n=20/instance_n=20_94.alb', 'SALBP_benchmark/small data set_n=20/instance_n=20_95.alb', 'SALBP_benchmark/small data set_n=20/instance_n=20_96.alb', 'SALBP_benchmark/small data set_n=20/instance_n=20_97.alb', 'SALBP_benchmark/small data set_n=20/instance_n=20_98.alb', 'SALBP_benchmark/small data set_n=20/instance_n=20_99.alb', 'SALBP_benchmark/small data set_n=20/instance_n=20_100.alb']\n"
     ]
    }
   ],
   "source": [
    "#instance_groups = pair_instances(instances, MODEL_MIXTURES)\n",
    "\n",
    "instance_list = read_instance_folder(\"SALBP_benchmark/small data set_n=20/\")[:100]\n",
    "print(instance_list)\n",
    "model_names = ['A', 'B','C','D','E']\n",
    "interval = (0.8, 0.8)\n",
    "\n",
    "\n",
    "fp = 'SALBP_benchmark/MM_instances/model_data/small_instances/5_models/'\n",
    "#if filepath does not exist, create it\n",
    "if not os.path.exists(fp):\n",
    "    os.makedirs(fp)\n",
    "make_instances(fp,instance_list, model_names, takt_time=TAKT_TIME, sequence_length=SEQUENCE_LENGTH, max_workers=NO_WORKERS, no_stations=NO_STATIONS, worker_cost=WORKER_COST, recourse_cost=RECOURSE_COST, seed=42)"
   ]
  },
  {
   "cell_type": "markdown",
   "metadata": {},
   "source": [
    "## Making equipment"
   ]
  },
  {
   "cell_type": "code",
   "execution_count": 5,
   "metadata": {},
   "outputs": [
    {
     "name": "stdout",
     "output_type": "stream",
     "text": [
      "doing new method\n",
      "number of stations 4\n",
      "number of tasks 20\n"
     ]
    }
   ],
   "source": [
    "equip = Equipment(20,8, 4,  seed=42, mean = 20, variance = 7)\n",
    "print(\"number of stations\", equip.no_stations)\n",
    "print(\"number of tasks\", equip.no_tasks)\n",
    "equip.c_se\n",
    "equip.to_yaml(f'SALBP_benchmark/MM_instances/equipment_data/')"
   ]
  },
  {
   "cell_type": "code",
   "execution_count": null,
   "metadata": {},
   "outputs": [],
   "source": []
  }
 ],
 "metadata": {
  "kernelspec": {
   "display_name": "base",
   "language": "python",
   "name": "python3"
  },
  "language_info": {
   "codemirror_mode": {
    "name": "ipython",
    "version": 3
   },
   "file_extension": ".py",
   "mimetype": "text/x-python",
   "name": "python",
   "nbconvert_exporter": "python",
   "pygments_lexer": "ipython3",
   "version": "3.9.13"
  },
  "orig_nbformat": 4
 },
 "nbformat": 4,
 "nbformat_minor": 2
}
