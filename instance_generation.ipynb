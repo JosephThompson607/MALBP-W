{
 "cells": [
  {
   "cell_type": "code",
   "execution_count": 2,
   "metadata": {},
   "outputs": [],
   "source": [
    "import numpy as np\n",
    "import re\n",
    "import networkx as nx\n",
    "import random\n",
    "import matplotlib.pyplot as plt\n",
    "import os\n",
    "import glob\n",
    "from ALB_instance_tools import *\n",
    "from scenario_trees import *\n",
    "import copy\n",
    "from MALBP_instance_generation import *"
   ]
  },
  {
   "cell_type": "markdown",
   "metadata": {},
   "source": [
    "## Making production sequences\n"
   ]
  },
  {
   "cell_type": "code",
   "execution_count": 8,
   "metadata": {},
   "outputs": [
    {
     "name": "stdout",
     "output_type": "stream",
     "text": [
      "final_sequences {0: {'sequence': [], 'probability': 1}}\n",
      "seq []\n",
      "i 0\n",
      "j 0\n",
      "j 1\n",
      "j 2\n",
      "j 3\n",
      "j 4\n",
      "seq []\n",
      "i 1\n",
      "j 0\n",
      "j 1\n",
      "j 2\n",
      "j 3\n",
      "j 4\n",
      "seq []\n",
      "i 2\n",
      "j 0\n",
      "j 1\n",
      "j 2\n",
      "j 3\n",
      "j 4\n",
      "seq []\n",
      "i 3\n",
      "j 0\n",
      "j 1\n",
      "j 2\n",
      "j 3\n",
      "j 4\n",
      "seq []\n",
      "i 4\n",
      "j 0\n",
      "j 1\n",
      "j 2\n",
      "j 3\n",
      "j 4\n"
     ]
    }
   ],
   "source": [
    "MODEL_MIXTURES = {'A':0.34, 'B':0.33, 'C':0.33}\n",
    "mc_seq = monte_carlo_tree(5, MODEL_MIXTURES, enum_depth=0 , n_samples=5)"
   ]
  },
  {
   "cell_type": "markdown",
   "metadata": {},
   "source": [
    "## Making model instances"
   ]
  },
  {
   "cell_type": "code",
   "execution_count": 3,
   "metadata": {},
   "outputs": [],
   "source": [
    "import yaml\n",
    "NO_EQUIPMENT = 4\n",
    "seed = 1\n",
    "NO_WORKERS =4\n",
    "NO_STATIONS = 4\n",
    "WORKER_COST = 500\n",
    "RECOURSE_COST = WORKER_COST * 2\n",
    "TAKT_TIME = 1000\n",
    "SEQUENCE_LENGTH = 4\n",
    "#MODEL_MIXTURES = {'A':0.34, 'B':0.33, 'C':0.33}\n",
    "# MODEL_MIXTURES = {'A':0.60, 'B':0.40}\n",
    "\n",
    "instances = [\n",
    "    {'fp': 'SALBP_benchmark/small data set_n=20/instance_n=20_200.alb', 'name': 'A', 'probability': 0.6},\n",
    "     #{'fp': 'SALBP_benchmark/small data set_n=20/instance_n=20_17.alb', 'name': 'C', 'probability': 0.4},\n",
    "     {'fp': 'SALBP_benchmark/small data set_n=20/instance_n=20_16.alb', 'name': 'B', 'probability': 0.4}]\n",
    "#mm_instance = MultiModelInstance( init_type='from_yaml',mm_yaml_file='/Users/letshopethisworks2/Documents/Phd Paper material/MMABPWW/SALBP_benchmark/MM_instances/n=20_1_n=20_2_n=20_3_.yaml', sequence_length=SEQUENCE_LENGTH, max_workers=NO_WORKERS, no_stations=NO_STATIONS, worker_cost=WORKER_COST, recourse_cost=RECOURSE_COST)\n"
   ]
  },
  {
   "cell_type": "markdown",
   "metadata": {},
   "source": [
    "small_instances = get_instance_list('SALBP_benchmark/MM_instances/model_data', extension='.yaml')\n",
    "instance_groups = pair_instances(instances, MODEL_MIXTURES)\n",
    "mm_instance = MultiModelTaskTimesInstance(model_dicts=instances, takt_time=TAKT_TIME, sequence_length=SEQUENCE_LENGTH, max_workers=NO_WORKERS, no_stations=NO_STATIONS, worker_cost=WORKER_COST, recourse_cost=RECOURSE_COST)\n",
    "\n",
    "print(mm_instance.name)\n",
    "print(mm_instance.data)\n",
    "print(mm_instance.takt_time)\n",
    "\n",
    "\n",
    "mm_instance.genererate_task_times(change_func=change_task_times_linear)\n",
    "\n",
    "mm_instance.model_data_to_yaml(f'SALBP_benchmark/MM_instances/model_data/')\n",
    "\n",
    "\n",
    "save_MALBPW_config('small_instance', NO_WORKERS, NO_STATIONS, \n",
    "                   WORKER_COST, RECOURSE_COST, SEQUENCE_LENGTH, \n",
    "                   'SALBP_benchmark/MM_instances/small_instance_config.yaml', \n",
    "                   equipment_files =[ 'SALBP_benchmark/MM_instances/equipment_data/random_O20_E4_S4_seed42.yaml'], instance_files=small_instances )\n"
   ]
  },
  {
   "cell_type": "code",
   "execution_count": 9,
   "metadata": {},
   "outputs": [
    {
     "name": "stdout",
     "output_type": "stream",
     "text": [
      "['/Users/letshopethisworks2/Documents/Phd Paper material/MMABPWW/SALBP_benchmark/medium data set_n=50/instance_n=50_53.alb', '/Users/letshopethisworks2/Documents/Phd Paper material/MMABPWW/SALBP_benchmark/medium data set_n=50/instance_n=50_54.alb', '/Users/letshopethisworks2/Documents/Phd Paper material/MMABPWW/SALBP_benchmark/medium data set_n=50/instance_n=50_55.alb', '/Users/letshopethisworks2/Documents/Phd Paper material/MMABPWW/SALBP_benchmark/medium data set_n=50/instance_n=50_56.alb']\n"
     ]
    }
   ],
   "source": [
    "# instance_groups = pair_instances(instances, MODEL_MIXTURES)\n",
    "\n",
    "instance_list = read_instance_folder(\"/Users/letshopethisworks2/Documents/Phd Paper material/MMABPWW/SALBP_benchmark/medium data set_n=50/\")[52:56]\n",
    "print(instance_list)\n",
    "model_names = ['A', 'B', 'C']\n",
    "\n",
    "\n",
    "\n",
    "fp = 'SALBP_benchmark/MM_instances/model_data/medium_instances/3_models/'\n",
    "#if filepath does not exist, create it\n",
    "if not os.path.exists(fp):\n",
    "    os.makedirs(fp)\n",
    "make_instances(fp,instance_list, model_names, takt_time=TAKT_TIME, sequence_length=SEQUENCE_LENGTH, max_workers=NO_WORKERS, no_stations=NO_STATIONS, worker_cost=WORKER_COST, recourse_cost=RECOURSE_COST)"
   ]
  },
  {
   "cell_type": "markdown",
   "metadata": {},
   "source": [
    "## Making equipment"
   ]
  },
  {
   "cell_type": "code",
   "execution_count": 17,
   "metadata": {},
   "outputs": [
    {
     "name": "stdout",
     "output_type": "stream",
     "text": [
      "doing new method\n",
      "number of stations 4\n",
      "number of tasks 20\n"
     ]
    }
   ],
   "source": [
    "equip = Equipment(20,8, 4,  seed=42, mean = 20, variance = 7)\n",
    "print(\"number of stations\", equip.no_stations)\n",
    "print(\"number of tasks\", equip.no_tasks)\n",
    "equip.c_se\n",
    "equip.to_yaml(f'SALBP_benchmark/MM_instances/equipment_data/')"
   ]
  },
  {
   "cell_type": "code",
   "execution_count": null,
   "metadata": {},
   "outputs": [],
   "source": []
  }
 ],
 "metadata": {
  "kernelspec": {
   "display_name": "base",
   "language": "python",
   "name": "python3"
  },
  "language_info": {
   "codemirror_mode": {
    "name": "ipython",
    "version": 3
   },
   "file_extension": ".py",
   "mimetype": "text/x-python",
   "name": "python",
   "nbconvert_exporter": "python",
   "pygments_lexer": "ipython3",
   "version": "3.9.13"
  },
  "orig_nbformat": 4
 },
 "nbformat": 4,
 "nbformat_minor": 2
}
