{
 "cells": [
  {
   "cell_type": "code",
   "execution_count": 1,
   "metadata": {},
   "outputs": [],
   "source": [
    "import numpy as np\n",
    "import re\n",
    "import networkx as nx\n",
    "import random\n",
    "import matplotlib.pyplot as plt\n",
    "import os\n",
    "import glob\n",
    "from ALB_instance_tools import *\n",
    "import copy"
   ]
  },
  {
   "cell_type": "code",
   "execution_count": 3,
   "metadata": {},
   "outputs": [],
   "source": [
    "import yaml\n",
    "NO_EQUIPMENT = 4\n",
    "seed = 1\n",
    "NO_WORKERS =4\n",
    "NO_STATIONS = 4\n",
    "WORKER_COST = 500\n",
    "RECOURSE_COST = WORKER_COST * 2\n",
    "TAKT_TIME = 1000\n",
    "SEQUENCE_LENGTH = 4\n",
    "#MODEL_MIXTURES = {'A':0.34, 'B':0.33, 'C':0.33}\n",
    "# MODEL_MIXTURES = {'A':0.60, 'B':0.40}\n",
    "\n",
    "instances = [\n",
    "    {'fp': 'SALBP_benchmark/small data set_n=20/instance_n=20_200.alb', 'name': 'A', 'probability': 0.6},\n",
    "     #{'fp': 'SALBP_benchmark/small data set_n=20/instance_n=20_17.alb', 'name': 'C', 'probability': 0.4},\n",
    "     {'fp': 'SALBP_benchmark/small data set_n=20/instance_n=20_16.alb', 'name': 'B', 'probability': 0.4}]\n",
    "#mm_instance = MultiModelInstance( init_type='from_yaml',mm_yaml_file='/Users/letshopethisworks2/Documents/Phd Paper material/MMABPWW/SALBP_benchmark/MM_instances/n=20_1_n=20_2_n=20_3_.yaml', sequence_length=SEQUENCE_LENGTH, max_workers=NO_WORKERS, no_stations=NO_STATIONS, worker_cost=WORKER_COST, recourse_cost=RECOURSE_COST)\n"
   ]
  },
  {
   "cell_type": "code",
   "execution_count": 15,
   "metadata": {},
   "outputs": [],
   "source": [
    "# instance_groups = pair_instances(instances, MODEL_MIXTURES)\n",
    "\n",
    "instance_list = read_instance_folder(\"SALBP_benchmark/large data set_n=100/\")[26:50]\n",
    "model_names = ['A', 'B']\n",
    "\n",
    "def random_model_mixture(model_names, seed = None):\n",
    "    '''Creates a dictionary where the model name are the keys and the probability is the values. The probabilities sum to 1'''\n",
    "    model_mixture = {}\n",
    "    random.seed(seed)\n",
    "    for model_name in model_names:\n",
    "        model_mixture[model_name] = random.random()\n",
    "    total = sum(model_mixture.values())\n",
    "    for model_name in model_mixture.keys():\n",
    "        model_mixture[model_name] = model_mixture[model_name]/total\n",
    "    return model_mixture\n",
    "\n",
    "def make_instances(filepath,SALBP_instance_list,model_names,takt_time, sequence_length, max_workers, no_stations, worker_cost, recourse_cost,task_time_adjuster=change_task_times_linear, seed = None):\n",
    "    for i in range(len(SALBP_instance_list)-len(model_names)+1):\n",
    "        instances = SALBP_instance_list[i:i+len(model_names)]\n",
    "        model_mixture = random_model_mixture(model_names, seed)\n",
    "        model_dicts = make_instance_pair(instances, model_mixture)\n",
    "        mm_instance = MultiModelTaskTimesInstance(model_dicts=model_dicts, takt_time=takt_time, sequence_length=sequence_length, max_workers=max_workers, no_stations=no_stations, worker_cost=worker_cost, recourse_cost=recourse_cost)\n",
    "        mm_instance.genererate_task_times(change_func=task_time_adjuster)\n",
    "\n",
    "        mm_instance.model_data_to_yaml(filepath)\n",
    "\n",
    "fp = 'SALBP_benchmark/MM_instances/model_data/large_instances/2_models/'\n",
    "#if filepath does not exist, create it\n",
    "if not os.path.exists(fp):\n",
    "    os.makedirs(fp)\n",
    "make_instances(fp,instance_list, model_names, takt_time=TAKT_TIME, sequence_length=SEQUENCE_LENGTH, max_workers=NO_WORKERS, no_stations=NO_STATIONS, worker_cost=WORKER_COST, recourse_cost=RECOURSE_COST)"
   ]
  },
  {
   "cell_type": "code",
   "execution_count": 4,
   "metadata": {},
   "outputs": [
    {
     "name": "stdout",
     "output_type": "stream",
     "text": [
      "doing new method\n"
     ]
    }
   ],
   "source": [
    "equip = Equipment(50,10, 4,  seed=None, mean = 200, variance = 100)\n",
    "equip.to_yaml(f'SALBP_benchmark/MM_instances/equipment_data/')"
   ]
  }
 ],
 "metadata": {
  "kernelspec": {
   "display_name": "base",
   "language": "python",
   "name": "python3"
  },
  "language_info": {
   "codemirror_mode": {
    "name": "ipython",
    "version": 3
   },
   "file_extension": ".py",
   "mimetype": "text/x-python",
   "name": "python",
   "nbconvert_exporter": "python",
   "pygments_lexer": "ipython3",
   "version": "3.9.13"
  },
  "orig_nbformat": 4
 },
 "nbformat": 4,
 "nbformat_minor": 2
}
