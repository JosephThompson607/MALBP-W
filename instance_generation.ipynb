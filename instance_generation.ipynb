{
 "cells": [
  {
   "cell_type": "code",
   "execution_count": 1,
   "metadata": {},
   "outputs": [],
   "source": [
    "import numpy as np\n",
    "import re\n",
    "import networkx as nx\n",
    "import random\n",
    "import matplotlib.pyplot as plt\n",
    "import os\n",
    "import glob\n",
    "from ALB_instance_tools import *\n",
    "from scenario_trees import *\n",
    "import copy\n",
    "from MALBP_instance_generation import *"
   ]
  },
  {
   "cell_type": "markdown",
   "metadata": {},
   "source": [
    "## Making production sequences\n"
   ]
  },
  {
   "cell_type": "code",
   "execution_count": 2,
   "metadata": {},
   "outputs": [],
   "source": [
    "MODEL_MIXTURES = {'A':0.34, 'B':0.33, 'C':0.33}\n",
    "mc_seq = monte_carlo_tree(5, MODEL_MIXTURES, enum_depth=0 , n_samples=5)"
   ]
  },
  {
   "cell_type": "markdown",
   "metadata": {},
   "source": [
    "## Making model instances"
   ]
  },
  {
   "cell_type": "code",
   "execution_count": 3,
   "metadata": {},
   "outputs": [],
   "source": [
    "import yaml\n",
    "NO_EQUIPMENT = 4\n",
    "seed = 1\n",
    "NO_WORKERS =4\n",
    "NO_STATIONS = 2\n",
    "WORKER_COST = 500\n",
    "RECOURSE_COST = WORKER_COST * 2\n",
    "TAKT_TIME = 500\n",
    "SEQUENCE_LENGTH = 3\n",
    "#MODEL_MIXTURES = {'A':0.34, 'B':0.33, 'C':0.33}\n",
    "# MODEL_MIXTURES = {'A':0.60, 'B':0.40}\n",
    "\n",
    "instances = [\n",
    "    {'fp': 'SALBP_benchmark/small data set_n=20/instance_n=20_200.alb', 'name': 'A', 'probability': 0.6},\n",
    "     #{'fp': 'SALBP_benchmark/small data set_n=20/instance_n=20_17.alb', 'name': 'C', 'probability': 0.4},\n",
    "     {'fp': 'SALBP_benchmark/small data set_n=20/instance_n=20_16.alb', 'name': 'B', 'probability': 0.4}]\n",
    "#mm_instance = MultiModelInstance( init_type='from_yaml',mm_yaml_file='/Users/letshopethisworks2/Documents/Phd Paper material/MMABPWW/SALBP_benchmark/MM_instances/n=20_1_n=20_2_n=20_3_.yaml', sequence_length=SEQUENCE_LENGTH, max_workers=NO_WORKERS, no_stations=NO_STATIONS, worker_cost=WORKER_COST, recourse_cost=RECOURSE_COST)\n"
   ]
  },
  {
   "cell_type": "markdown",
   "metadata": {},
   "source": [
    "small_instances = get_instance_list('SALBP_benchmark/MM_instances/model_data', extension='.yaml')\n",
    "instance_groups = pair_instances(instances, MODEL_MIXTURES)\n",
    "mm_instance = MultiModelTaskTimesInstance(model_dicts=instances, takt_time=TAKT_TIME, sequence_length=SEQUENCE_LENGTH, max_workers=NO_WORKERS, no_stations=NO_STATIONS, worker_cost=WORKER_COST, recourse_cost=RECOURSE_COST)\n",
    "\n",
    "print(mm_instance.name)\n",
    "print(mm_instance.data)\n",
    "print(mm_instance.takt_time)\n",
    "\n",
    "\n",
    "mm_instance.genererate_task_times(change_func=change_task_times_linear)\n",
    "\n",
    "mm_instance.model_data_to_yaml(f'SALBP_benchmark/MM_instances/model_data/')\n",
    "\n",
    "\n",
    "save_MALBPW_config('small_instance', NO_WORKERS, NO_STATIONS, \n",
    "                   WORKER_COST, RECOURSE_COST, SEQUENCE_LENGTH, \n",
    "                   'SALBP_benchmark/MM_instances/small_instance_config.yaml', \n",
    "                   equipment_files =[ 'SALBP_benchmark/MM_instances/equipment_data/random_O20_E4_S4_seed42.yaml'], instance_files=small_instances )\n"
   ]
  },
  {
   "cell_type": "code",
   "execution_count": 5,
   "metadata": {},
   "outputs": [
    {
     "name": "stdout",
     "output_type": "stream",
     "text": [
      "['SALBP_benchmark/small data set_n=20/instance_n=20_1.alb', 'SALBP_benchmark/small data set_n=20/instance_n=20_2.alb']\n",
      "These are the model_dicts\n",
      "[{'fp': 'SALBP_benchmark/small data set_n=20/instance_n=20_1.alb', 'name': 'A', 'probability': 0.48692067223365654}, {'fp': 'SALBP_benchmark/small data set_n=20/instance_n=20_2.alb', 'name': 'B', 'probability': 0.5130793277663434}]\n",
      "This is the data\n",
      "instance.data {'A': {'num_tasks': 20, 'order_strength': 0.268, 'task_times': {1: {'1': 142, '2': 34, '3': 140, '4': 214, '5': 121, '6': 279, '7': 50, '8': 282, '9': 129, '10': 175, '11': 97, '12': 132, '13': 107, '14': 132, '15': 69, '16': 169, '17': 73, '18': 231, '19': 120, '20': 186}, 2: {'1': 71.0, '2': 17.0, '3': 70.0, '4': 107.0, '5': 60.5, '6': 139.5, '7': 25.0, '8': 141.0, '9': 64.5, '10': 87.5, '11': 48.5, '12': 66.0, '13': 53.5, '14': 66.0, '15': 34.5, '16': 84.5, '17': 36.5, '18': 115.5, '19': 60.0, '20': 93.0}, 3: {'1': 47.333333333333336, '2': 11.333333333333334, '3': 46.666666666666664, '4': 71.33333333333333, '5': 40.333333333333336, '6': 93.0, '7': 16.666666666666668, '8': 94.0, '9': 43.0, '10': 58.333333333333336, '11': 32.333333333333336, '12': 44.0, '13': 35.666666666666664, '14': 44.0, '15': 23.0, '16': 56.333333333333336, '17': 24.333333333333332, '18': 77.0, '19': 40.0, '20': 62.0}, 4: {'1': 35.5, '2': 8.5, '3': 35.0, '4': 53.5, '5': 30.25, '6': 69.75, '7': 12.5, '8': 70.5, '9': 32.25, '10': 43.75, '11': 24.25, '12': 33.0, '13': 26.75, '14': 33.0, '15': 17.25, '16': 42.25, '17': 18.25, '18': 57.75, '19': 30.0, '20': 46.5}}, 'precedence_relations': [['1', '6'], ['2', '7'], ['4', '8'], ['5', '9'], ['6', '10'], ['7', '11'], ['8', '12'], ['10', '13'], ['11', '13'], ['12', '14'], ['12', '15'], ['13', '16'], ['13', '17'], ['13', '18'], ['14', '20'], ['15', '19']], 'probability': 0.48692067223365654}, 'B': {'num_tasks': 20, 'order_strength': 0.3, 'task_times': {1: {'1': 58, '2': 224, '3': 20, '4': 150, '5': 410, '6': 117, '7': 262, '8': 94, '9': 213, '10': 118, '11': 191, '12': 74, '13': 60, '14': 117, '15': 124, '16': 103, '17': 178, '18': 188, '19': 107, '20': 53}, 2: {'1': 29.0, '2': 112.0, '3': 10.0, '4': 75.0, '5': 205.0, '6': 58.5, '7': 131.0, '8': 47.0, '9': 106.5, '10': 59.0, '11': 95.5, '12': 37.0, '13': 30.0, '14': 58.5, '15': 62.0, '16': 51.5, '17': 89.0, '18': 94.0, '19': 53.5, '20': 26.5}, 3: {'1': 19.333333333333332, '2': 74.66666666666667, '3': 6.666666666666667, '4': 50.0, '5': 136.66666666666666, '6': 39.0, '7': 87.33333333333333, '8': 31.333333333333332, '9': 71.0, '10': 39.333333333333336, '11': 63.666666666666664, '12': 24.666666666666668, '13': 20.0, '14': 39.0, '15': 41.333333333333336, '16': 34.333333333333336, '17': 59.333333333333336, '18': 62.666666666666664, '19': 35.666666666666664, '20': 17.666666666666668}, 4: {'1': 14.5, '2': 56.0, '3': 5.0, '4': 37.5, '5': 102.5, '6': 29.25, '7': 65.5, '8': 23.5, '9': 53.25, '10': 29.5, '11': 47.75, '12': 18.5, '13': 15.0, '14': 29.25, '15': 31.0, '16': 25.75, '17': 44.5, '18': 47.0, '19': 26.75, '20': 13.25}}, 'precedence_relations': [['1', '13'], ['2', '5'], ['4', '6'], ['5', '10'], ['5', '11'], ['5', '12'], ['6', '7'], ['6', '8'], ['6', '9'], ['7', '13'], ['8', '13'], ['9', '13'], ['10', '16'], ['11', '14'], ['12', '15'], ['13', '17'], ['13', '18'], ['13', '19'], ['13', '20']], 'probability': 0.5130793277663434}}\n",
      "first key A\n",
      "first key  tasks\n",
      "['1', '2', '3', '4', '5', '6', '7', '8', '9', '10', '11', '12', '13', '14', '15', '16', '17', '18', '19', '20']\n",
      "instance.data[first_key] {'num_tasks': 20, 'order_strength': 0.268, 'task_times': {1: {'1': 142, '2': 34, '3': 140, '4': 214, '5': 121, '6': 279, '7': 50, '8': 282, '9': 129, '10': 175, '11': 97, '12': 132, '13': 107, '14': 132, '15': 69, '16': 169, '17': 73, '18': 231, '19': 120, '20': 186}, 2: {'1': 71.0, '2': 17.0, '3': 70.0, '4': 107.0, '5': 60.5, '6': 139.5, '7': 25.0, '8': 141.0, '9': 64.5, '10': 87.5, '11': 48.5, '12': 66.0, '13': 53.5, '14': 66.0, '15': 34.5, '16': 84.5, '17': 36.5, '18': 115.5, '19': 60.0, '20': 93.0}, 3: {'1': 47.333333333333336, '2': 11.333333333333334, '3': 46.666666666666664, '4': 71.33333333333333, '5': 40.333333333333336, '6': 93.0, '7': 16.666666666666668, '8': 94.0, '9': 43.0, '10': 58.333333333333336, '11': 32.333333333333336, '12': 44.0, '13': 35.666666666666664, '14': 44.0, '15': 23.0, '16': 56.333333333333336, '17': 24.333333333333332, '18': 77.0, '19': 40.0, '20': 62.0}, 4: {'1': 35.5, '2': 8.5, '3': 35.0, '4': 53.5, '5': 30.25, '6': 69.75, '7': 12.5, '8': 70.5, '9': 32.25, '10': 43.75, '11': 24.25, '12': 33.0, '13': 26.75, '14': 33.0, '15': 17.25, '16': 42.25, '17': 18.25, '18': 57.75, '19': 30.0, '20': 46.5}}, 'precedence_relations': [['1', '6'], ['2', '7'], ['4', '8'], ['5', '9'], ['6', '10'], ['7', '11'], ['8', '12'], ['10', '13'], ['11', '13'], ['12', '14'], ['12', '15'], ['13', '16'], ['13', '17'], ['13', '18'], ['14', '20'], ['15', '19']], 'probability': 0.48692067223365654}\n",
      "0.8\n"
     ]
    }
   ],
   "source": [
    "#instance_groups = pair_instances(instances, MODEL_MIXTURES)\n",
    "\n",
    "instance_list = read_instance_folder(\"SALBP_benchmark/small data set_n=20/\")[:2]\n",
    "print(instance_list)\n",
    "model_names = ['A', 'B',]\n",
    "interval = (0.8, 0.8)\n",
    "\n",
    "\n",
    "fp = 'SALBP_benchmark/debugging_ds/'\n",
    "#if filepath does not exist, create it\n",
    "if not os.path.exists(fp):\n",
    "    os.makedirs(fp)\n",
    "make_reduced_instances(fp,instance_list, model_names, takt_time=TAKT_TIME, sequence_length=SEQUENCE_LENGTH, max_workers=NO_WORKERS, no_stations=NO_STATIONS, worker_cost=WORKER_COST, recourse_cost=RECOURSE_COST, interval_choice = interval)"
   ]
  },
  {
   "cell_type": "markdown",
   "metadata": {},
   "source": [
    "## Making equipment"
   ]
  },
  {
   "cell_type": "code",
   "execution_count": 5,
   "metadata": {},
   "outputs": [
    {
     "name": "stdout",
     "output_type": "stream",
     "text": [
      "doing new method\n",
      "number of stations 4\n",
      "number of tasks 20\n"
     ]
    }
   ],
   "source": [
    "equip = Equipment(20,8, 4,  seed=42, mean = 20, variance = 7)\n",
    "print(\"number of stations\", equip.no_stations)\n",
    "print(\"number of tasks\", equip.no_tasks)\n",
    "equip.c_se\n",
    "equip.to_yaml(f'SALBP_benchmark/MM_instances/equipment_data/')"
   ]
  },
  {
   "cell_type": "code",
   "execution_count": null,
   "metadata": {},
   "outputs": [],
   "source": []
  }
 ],
 "metadata": {
  "kernelspec": {
   "display_name": "base",
   "language": "python",
   "name": "python3"
  },
  "language_info": {
   "codemirror_mode": {
    "name": "ipython",
    "version": 3
   },
   "file_extension": ".py",
   "mimetype": "text/x-python",
   "name": "python",
   "nbconvert_exporter": "python",
   "pygments_lexer": "ipython3",
   "version": "3.9.13"
  },
  "orig_nbformat": 4
 },
 "nbformat": 4,
 "nbformat_minor": 2
}
