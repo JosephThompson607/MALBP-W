{
 "cells": [
  {
   "cell_type": "code",
   "execution_count": null,
   "metadata": {},
   "outputs": [],
   "source": [
    "import pulp as plp\n",
    "from ALB_instance_tools import *\n",
    "import numpy as np\n",
    "import pandas as pd\n",
    "import os"
   ]
  },
  {
   "cell_type": "code",
   "execution_count": null,
   "metadata": {},
   "outputs": [],
   "source": [
    "! pwd\n"
   ]
  },
  {
   "cell_type": "code",
   "execution_count": null,
   "metadata": {},
   "outputs": [],
   "source": [
    "'20_249.alb'.split(\".\")[0].split(\"_\")[1]"
   ]
  },
  {
   "cell_type": "code",
   "execution_count": null,
   "metadata": {},
   "outputs": [],
   "source": [
    "\n",
    "#Gets list of all instance (.alb) files in the SALBP_benchmark/small\\ data\\ set_n\\=20 folder\n",
    "instance_list = get_instance_list('SALBP_benchmark/small data set_n=20')\n",
    "\n",
    "#sorts instance list by instance number\n",
    "instance_list = sorted(instance_list, key=lambda k: int(k['name'].split(\"_\")[1]))\n"
   ]
  },
  {
   "cell_type": "code",
   "execution_count": null,
   "metadata": {},
   "outputs": [],
   "source": [
    "parse_alb(instance_list[517]['location'])"
   ]
  },
  {
   "cell_type": "code",
   "execution_count": null,
   "metadata": {},
   "outputs": [],
   "source": [
    "\n",
    "def define_ALBP_1_problem(instance, max_stations = 20):\n",
    "    prob = plp.LpProblem(\"ALPB_1\", plp.LpMinimize)\n",
    "    #creating decision variables\n",
    "    tasks = plp.LpVariable.dicts(\"task_o_s\", (instance['task_times'].keys(), range(1,max_stations + 1)), cat='Binary')\n",
    "    #objective function\n",
    "    prob += plp.lpSum([ station * tasks[task][station] for station in range(1,max_stations + 1) for task in instance['task_times'].keys()])\n",
    "    #definining constraints\n",
    "    #constraint 1 only choose 1 station for each task\n",
    "    for task in instance['task_times'].keys():\n",
    "        prob += plp.lpSum([tasks[task][station] for station in range(1,max_stations + 1)]) == 1\n",
    "    #constraint 2 task and station assignment must respect takt time\n",
    "    for station in range(1,max_stations + 1):\n",
    "        prob += plp.lpSum([instance['task_times'][task] * tasks[task][station] for task in instance['task_times'].keys()]) <= instance['cycle_time']\n",
    "    #constraint 3 tasks must respect precedence constraints\n",
    "    for precedence in instance['precedence_relations']:\n",
    "        prob += plp.lpSum([station * tasks[precedence[0]][station] for station in range(1,max_stations + 1)]) <= plp.lpSum([station * tasks[precedence[1]][station] for station in range(1,max_stations + 1)])\n",
    "    return prob\n",
    "\n",
    "def solve_ALBP_1(instance):\n",
    "    prob = define_ALBP_1_problem(instance)\n",
    "    prob.solve(solver=plp.XPRESS_PY( msg=False))\n",
    " \n",
    "    return prob\n",
    "\n",
    "\n"
   ]
  },
  {
   "cell_type": "code",
   "execution_count": null,
   "metadata": {},
   "outputs": [],
   "source": [
    "def get_ALBP_solutions(problems_list):\n",
    "    solutions = []\n",
    "    for problem in problems_list:\n",
    "        instance = parse_alb(problem['location'])\n",
    "        prob = solve_ALBP_1(instance)\n",
    "        #creates a new dictionary entry that contains the data on the instances\n",
    "        print('solving problem', problem['name'])\n",
    "        entry = {'name':problem['name']}\n",
    "        entry['no_tasks'] = len(instance['task_times'].keys())\n",
    "        entry['order_strength'] = instance['order_strength']\n",
    "        entry['cycle_time'] = instance['cycle_time']\n",
    "        max_station = -10\n",
    "        for variable in prob.variables():\n",
    "            \n",
    "            if variable.varValue > 0:\n",
    "                station = int(variable.name.split(\"_\")[4])\n",
    "\n",
    "                if station > max_station:\n",
    "                    max_station = station\n",
    "        entry['no_stations'] = max_station\n",
    "        solutions.append(entry)\n",
    "    return solutions\n",
    "#solution_outputs = get_ALBP_solutions(instance_list)"
   ]
  },
  {
   "cell_type": "code",
   "execution_count": null,
   "metadata": {},
   "outputs": [],
   "source": [
    "# solution_outputs = pd.DataFrame(solution_outputs)\n",
    "# solution_outputs.to_csv('ALBP_1_solutions.csv')"
   ]
  },
  {
   "cell_type": "code",
   "execution_count": null,
   "metadata": {},
   "outputs": [],
   "source": [
    "#Scoring functions\n",
    "def task_time_weight(task, instance):\n",
    "    return instance['task_times'][task]\n",
    "\n",
    "\n",
    "     \n",
    "\n",
    "\n",
    "#fills up each station with available tasks in order of score\n",
    "def insert_task(tasks_dict, station_capacities, assignment_dict):\n",
    "    for index, station in enumerate(station_capacities):\n",
    "            for task in tasks_dict.keys():\n",
    "                if instance['task_times'][task] <= station and all(predecessor not in tasks_dict.keys() for predecessor in tasks_dict[task]['predecessors']):\n",
    "                    station_capacities[index] -= instance['task_times'][task]\n",
    "                    assignment_dict[task] = index + 1\n",
    "                    tasks_dict.pop(task)\n",
    "                    return\n",
    "\n",
    "# RA heuristic as described in \"A comparative Evaluation of Heuristics for the Assembly Line Balancing Problem\" by Ponnanbalam et. al              \n",
    "def rank_and_assign(score_function, instance, max_stations = 20):\n",
    "    station_capacities = [instance['cycle_time'] for i in range(0, max_stations)]\n",
    "    tasks_dict = {}\n",
    "    task_assignment = {}\n",
    "    for task in instance['task_times'].keys():\n",
    "        task_dict = {}\n",
    "        task_dict['score'] = score_function(task, instance)\n",
    "        task_dict['predecessors'] = [precedence[0] for precedence in instance['precedence_relations'] if precedence[1] == task]\n",
    "\n",
    "        tasks_dict[task] = task_dict\n",
    "    #sorts tasks_dict by score\n",
    "    tasks_dict = {k: v for k, v in sorted(tasks_dict.items(), key=lambda item: item[1]['score'])}\n",
    "    #Inserts tasks into stations until there are no more tasks\n",
    "    while len(tasks_dict.keys()) > 0:\n",
    "        insert_task(tasks_dict, station_capacities, task_assignment)\n",
    "    return station_capacities, task_assignment\n",
    "\n",
    "instance = parse_alb(instance_list[0]['location'])\n",
    "\n",
    "station_capacities1, task_assignment1 = rank_and_assign(task_time_weight,instance)\n",
    "station_capacities1"
   ]
  },
  {
   "cell_type": "code",
   "execution_count": null,
   "metadata": {},
   "outputs": [],
   "source": [
    "#inserts tasks into first available station\n",
    "def insert_task_iuff(tasks_dict, station_capacities, assignment_dict, available_tasks):\n",
    "    for task in tasks_dict.keys():\n",
    "        if task in available_tasks:\n",
    "            for index, station in enumerate(station_capacities):\n",
    "                if instance['task_times'][task] <= station:\n",
    "                    station_capacities[index] -= instance['task_times'][task]\n",
    "                    assignment_dict[task] = index + 1\n",
    "                    del tasks_dict[task]\n",
    "                    return\n",
    "\n",
    "def update_tasks(tasks_dict, available_tasks, task_assignment):\n",
    "    for task in tasks_dict.keys():\n",
    "        if task not in available_tasks:\n",
    "            if all(predecessor not in task_assignment.keys() for predecessor in tasks_dict[task]['predecessors']):\n",
    "                available_tasks.append(task)\n",
    " #TODO I need to make sure we are adding tasks in the right order, based on the score\n",
    "    \n",
    "     \n",
    "# IUFF heuristic as described in \"A comparative Evaluation of Heuristics for the Assembly Line Balancing Problem\" by Ponnanbalam et. al              \n",
    "def immediate_update_first_fit(score_function, instance, max_stations = 20):\n",
    "    station_capacities = [instance['cycle_time'] for i in range(0, max_stations)]\n",
    "    tasks_dict = {}\n",
    "    task_assignment = {}\n",
    "    available_tasks = []\n",
    "    for task in instance['task_times'].keys():\n",
    "        task_dict = {}\n",
    "        task_dict['score'] = score_function(task, instance)\n",
    "        task_dict['predecessors'] = [precedence[0] for precedence in instance['precedence_relations'] if precedence[1] == task]\n",
    "        #adds tasks with no predecessors to available tasks\n",
    "        if not task_dict['predecessors']:\n",
    "            available_tasks.append(task)\n",
    "        tasks_dict[task] = task_dict\n",
    "    #sorts tasks_dict by score\n",
    "    tasks_dict = {k: v for k, v in sorted(tasks_dict.items(), key=lambda item: item[1]['score'], reverse=True)}\n",
    "    #Inserts first available tasks into a station\n",
    "\n",
    "    while len(task_assignment) < instance['num_tasks']:\n",
    "        print(task_assignment)\n",
    "        insert_task_iuff(tasks_dict, station_capacities, task_assignment, available_tasks)\n",
    "        update_tasks(tasks_dict, available_tasks, task_assignment)\n",
    "    return station_capacities, task_assignment\n",
    "instance = parse_alb(instance_list[0]['location'])\n",
    "station_capacities, task_assignment = immediate_update_first_fit(task_time_weight,instance)"
   ]
  },
  {
   "cell_type": "code",
   "execution_count": null,
   "metadata": {},
   "outputs": [],
   "source": [
    "station_capacities"
   ]
  },
  {
   "cell_type": "code",
   "execution_count": null,
   "metadata": {},
   "outputs": [],
   "source": [
    "task_assignment1"
   ]
  },
  {
   "cell_type": "code",
   "execution_count": null,
   "metadata": {},
   "outputs": [],
   "source": [
    "instance"
   ]
  },
  {
   "cell_type": "code",
   "execution_count": null,
   "metadata": {},
   "outputs": [],
   "source": [
    "task_assignment"
   ]
  },
  {
   "cell_type": "code",
   "execution_count": null,
   "metadata": {},
   "outputs": [],
   "source": []
  },
  {
   "cell_type": "code",
   "execution_count": null,
   "metadata": {},
   "outputs": [],
   "source": []
  },
  {
   "cell_type": "code",
   "execution_count": null,
   "metadata": {},
   "outputs": [],
   "source": []
  }
 ],
 "metadata": {
  "kernelspec": {
   "display_name": "base",
   "language": "python",
   "name": "python3"
  },
  "language_info": {
   "codemirror_mode": {
    "name": "ipython",
    "version": 3
   },
   "file_extension": ".py",
   "mimetype": "text/x-python",
   "name": "python",
   "nbconvert_exporter": "python",
   "pygments_lexer": "ipython3",
   "version": "3.9.13"
  },
  "orig_nbformat": 4
 },
 "nbformat": 4,
 "nbformat_minor": 2
}
