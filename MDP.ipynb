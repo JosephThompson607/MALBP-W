{
 "cells": [
  {
   "cell_type": "code",
   "execution_count": 1,
   "metadata": {},
   "outputs": [],
   "source": [
    "from pulp import *\n",
    "from alb_tools import *\n",
    "import itertools\n",
    "from more_itertools import set_partitions"
   ]
  },
  {
   "attachments": {},
   "cell_type": "markdown",
   "metadata": {},
   "source": [
    "# MDP model\n",
    "taken from Markov decision process for multi-manned mixed-model assembly lines with walking workers Hasemi-Petroodi et. al. 2022"
   ]
  },
  {
   "cell_type": "code",
   "execution_count": null,
   "metadata": {},
   "outputs": [],
   "source": []
  },
  {
   "cell_type": "code",
   "execution_count": 2,
   "metadata": {},
   "outputs": [],
   "source": [
    "instance_names = ['SALBP_benchmark/small data set_n=20/instance_n=20_1.alb','SALBP_benchmark/small data set_n=20/instance_n=20_2.alb' ]\n",
    "test_instances = create_instance_pairs(instance_names)\n",
    "NO_EQUIPMENT = 4\n",
    "NO_S = 2\n",
    "C_EM = 300\n",
    "NO_MODELS = 2\n",
    "TAKT_TIME = 450 #cadence to respect\n",
    "MAX_L = 3 #maximum number of workers at a station\n",
    "#STATION_MODEL_PICTURES  = {}\n",
    "\n",
    "S_E = [(s, e ) for s in range(NO_S) for e in range(NO_EQUIPMENT)]\n",
    "S_L = [(s , l) for s in range(NO_S) for l in range(1, MAX_L)]\n",
    "\n",
    "NO_CONFIG = NO_MODELS ** NO_S #Number of possible line pictures\n",
    "\n",
    "test_instances[0]= eliminate_tasks(test_instances[0], (0.8,0.8))\n",
    "for i in range(NO_MODELS):\n",
    "    test_instances[0][i]['cycle_time'] = TAKT_TIME\n",
    "    test_instances[0][i]['c_em'] = C_EM\n",
    "    test_instances[0][i]['max_workers'] = MAX_L\n",
    "\n",
    "all_tasks = list_all_tasks(test_instances[0]) \n",
    "\n",
    "c_se, r_oe = generate_equipment(NO_EQUIPMENT,NO_S, all_tasks)\n",
    "stations = list(range(NO_S))\n",
    "models = list(range(NO_MODELS))\n",
    "model_pairs = list(itertools.combinations(models, 2))\n",
    "omega = []\n",
    "enumerate_universe('', omega, NO_MODELS, NO_S)\n",
    "actions = list(range(len(all_tasks) ** NO_S))\n",
    "# equipment = list(range(NO_EQUIPMENT))\n",
    "# workers = list(range(1, MAX_L+1))\n"
   ]
  },
  {
   "cell_type": "code",
   "execution_count": 3,
   "metadata": {},
   "outputs": [
    {
     "name": "stdout",
     "output_type": "stream",
     "text": [
      "[[{'num_tasks': 4, 'cycle_time': 450, 'order_strength': 0.268, 'task_times': {'1': 142, '15': 69, '17': 73, '20': 186}, 'precedence_relations': [('1', '17')], 'model_no': 0, 'c_em': 300, 'max_workers': 3}, {'num_tasks': 4, 'cycle_time': 450, 'order_strength': 0.3, 'task_times': {'1': 58, '15': 124, '17': 178, '20': 53}, 'precedence_relations': [('1', '17'), ('1', '20')], 'model_no': 1, 'c_em': 300, 'max_workers': 3}]]\n"
     ]
    }
   ],
   "source": [
    "print(test_instances)"
   ]
  },
  {
   "cell_type": "code",
   "execution_count": 4,
   "metadata": {},
   "outputs": [
    {
     "name": "stderr",
     "output_type": "stream",
     "text": [
      "/var/folders/6v/7nrd1rj91hx3tb4q5npbdf0w0000gn/T/ipykernel_47300/1903328287.py:6: UserWarning: This figure includes Axes that are not compatible with tight_layout, so results might be incorrect.\n",
      "  plt.tight_layout()\n"
     ]
    },
    {
     "data": {
      "image/png": "[encoded data removed]",
      "text/plain": [
       "<Figure size 640x480 with 1 Axes>"
      ]
     },
     "metadata": {},
     "output_type": "display_data"
    }
   ],
   "source": [
    "p_graph = nx.DiGraph()\n",
    "p_graph.add_edges_from(test_instances[0][0]['precedence_relations'], color = 'r')\n",
    "p_graph.add_edges_from(test_instances[0][1]['precedence_relations'], color= 'k')\n",
    "colors = [p_graph[u][v]['color'] for u,v in p_graph.edges]\n",
    "nx.draw_planar(p_graph, edge_color=colors, with_labels=True)\n",
    "plt.tight_layout()\n",
    "plt.savefig(\"precedence_graph.png\", format=\"PNG\" )"
   ]
  },
  {
   "cell_type": "code",
   "execution_count": 5,
   "metadata": {},
   "outputs": [
    {
     "data": {
      "text/plain": [
       "[{'num_tasks': 4,\n",
       "  'cycle_time': 450,\n",
       "  'order_strength': 0.268,\n",
       "  'task_times': {'1': 142, '15': 69, '17': 73, '20': 186},\n",
       "  'precedence_relations': [('1', '17')],\n",
       "  'model_no': 0,\n",
       "  'c_em': 300,\n",
       "  'max_workers': 3},\n",
       " {'num_tasks': 4,\n",
       "  'cycle_time': 450,\n",
       "  'order_strength': 0.3,\n",
       "  'task_times': {'1': 58, '15': 124, '17': 178, '20': 53},\n",
       "  'precedence_relations': [('1', '17'), ('1', '20')],\n",
       "  'model_no': 1,\n",
       "  'c_em': 300,\n",
       "  'max_workers': 3}]"
      ]
     },
     "execution_count": 5,
     "metadata": {},
     "output_type": "execute_result"
    }
   ],
   "source": [
    "test_instances[0]"
   ]
  },
  {
   "cell_type": "code",
   "execution_count": 6,
   "metadata": {},
   "outputs": [],
   "source": [
    "\n",
    "\n",
    "\n",
    "\n",
    "partitions = []\n",
    "task_partitioning(partitions, [[] for _ in range(NO_S)], list(all_tasks), NO_S,  test_instances[0][0])"
   ]
  },
  {
   "cell_type": "code",
   "execution_count": 7,
   "metadata": {},
   "outputs": [],
   "source": [
    "feasible_partitions = {}\n",
    "\n",
    "for model in models:\n",
    "    partitions = []\n",
    "    task_partitioning(partitions, [[] for _ in range(NO_S)], list(all_tasks), NO_S,  test_instances[0][model])\n",
    "    feasible_partitions[f'model_{model}'] = partitions"
   ]
  },
  {
   "cell_type": "code",
   "execution_count": 8,
   "metadata": {},
   "outputs": [
    {
     "data": {
      "text/plain": [
       "{'model_0': [[['17', '20', '1'], ['15']],\n",
       "  [['17', '15', '1'], ['20']],\n",
       "  [['17', '1'], ['20', '15']],\n",
       "  [['20', '15', '1'], ['17']],\n",
       "  [['20', '15'], ['17', '1']],\n",
       "  [['20', '1'], ['17', '15']],\n",
       "  [['20'], ['17', '15', '1']],\n",
       "  [['15', '1'], ['17', '20']],\n",
       "  [['15'], ['17', '20', '1']],\n",
       "  [['1'], ['17', '20', '15']]],\n",
       " 'model_1': [[['17', '20', '1'], ['15']],\n",
       "  [['17', '15', '1'], ['20']],\n",
       "  [['17', '1'], ['20', '15']],\n",
       "  [['20', '15', '1'], ['17']],\n",
       "  [['20', '1'], ['17', '15']],\n",
       "  [['15', '1'], ['17', '20']],\n",
       "  [['15'], ['17', '20', '1']],\n",
       "  [['1'], ['17', '20', '15']]]}"
      ]
     },
     "execution_count": 8,
     "metadata": {},
     "output_type": "execute_result"
    }
   ],
   "source": [
    "feasible_partitions"
   ]
  },
  {
   "attachments": {},
   "cell_type": "markdown",
   "metadata": {},
   "source": [
    "## MDP State\n",
    "### State variables\n",
    "F_isd -- Equal to 1 when model i is located at station s in state d, 0 otherwise\n",
    "\n",
    "P_osd -- equal to 1 if model 1 if task o has been already executed for the the model in station s when the sytem passed to state d, 0 otherwise"
   ]
  },
  {
   "cell_type": "code",
   "execution_count": 9,
   "metadata": {},
   "outputs": [
    {
     "data": {
      "text/plain": [
       "[['0', '0'], ['0', '1'], ['1', '0'], ['1', '1']]"
      ]
     },
     "execution_count": 9,
     "metadata": {},
     "output_type": "execute_result"
    }
   ],
   "source": [
    "omega"
   ]
  },
  {
   "attachments": {},
   "cell_type": "markdown",
   "metadata": {},
   "source": [
    "### Defining decision variables\n",
    "R_osa -- equal to 1 if action a performs task o on the model in station s\n",
    "\n",
    "W_se -- 1 if equipment e is chosen for station s, 0 otherwise\n",
    "\n",
    "X_ad -- probability of taking action a in state d\n",
    "\n",
    "### Transistion variables\n",
    "Tr_a_d_dprime -- probability to transistion from state d to state d' with action a\n",
    "\n",
    "\n",
    "### Other parameters\n",
    "q_as -- number of workers required in station s for action a\n",
    "\n",
    "\n",
    "\n",
    "\n"
   ]
  },
  {
   "attachments": {},
   "cell_type": "markdown",
   "metadata": {},
   "source": [
    "## STATE markov decision process"
   ]
  },
  {
   "cell_type": "code",
   "execution_count": 10,
   "metadata": {},
   "outputs": [],
   "source": [
    "R_osa = LpVariable.dicts('R_osa', (all_tasks, stations, actions), lowBound=0, cat=LpBinary)"
   ]
  },
  {
   "cell_type": "code",
   "execution_count": 11,
   "metadata": {},
   "outputs": [
    {
     "data": {
      "text/plain": [
       "4"
      ]
     },
     "execution_count": 11,
     "metadata": {},
     "output_type": "execute_result"
    }
   ],
   "source": [
    "no_line_pictures = len(omega)\n",
    "no_line_pictures"
   ]
  },
  {
   "cell_type": "code",
   "execution_count": 12,
   "metadata": {},
   "outputs": [
    {
     "data": {
      "text/plain": [
       "[['0', '0'], ['0', '1'], ['1', '0'], ['1', '1']]"
      ]
     },
     "execution_count": 12,
     "metadata": {},
     "output_type": "execute_result"
    }
   ],
   "source": [
    "omega"
   ]
  },
  {
   "cell_type": "code",
   "execution_count": 13,
   "metadata": {},
   "outputs": [
    {
     "data": {
      "text/plain": [
       "{'model_0': [[['17', '20', '1'], ['15']],\n",
       "  [['17', '15', '1'], ['20']],\n",
       "  [['17', '1'], ['20', '15']],\n",
       "  [['20', '15', '1'], ['17']],\n",
       "  [['20', '15'], ['17', '1']],\n",
       "  [['20', '1'], ['17', '15']],\n",
       "  [['20'], ['17', '15', '1']],\n",
       "  [['15', '1'], ['17', '20']],\n",
       "  [['15'], ['17', '20', '1']],\n",
       "  [['1'], ['17', '20', '15']]],\n",
       " 'model_1': [[['17', '20', '1'], ['15']],\n",
       "  [['17', '15', '1'], ['20']],\n",
       "  [['17', '1'], ['20', '15']],\n",
       "  [['20', '15', '1'], ['17']],\n",
       "  [['20', '1'], ['17', '15']],\n",
       "  [['15', '1'], ['17', '20']],\n",
       "  [['15'], ['17', '20', '1']],\n",
       "  [['1'], ['17', '20', '15']]]}"
      ]
     },
     "execution_count": 13,
     "metadata": {},
     "output_type": "execute_result"
    }
   ],
   "source": [
    "feasible_partitions\n"
   ]
  },
  {
   "cell_type": "code",
   "execution_count": 14,
   "metadata": {},
   "outputs": [],
   "source": [
    "def create_model_histories(feasible_partitions, models, NO_S):\n",
    "    model_histories = {}\n",
    "    for model in models:\n",
    "            feasible_histories = []\n",
    "            for index, partition in enumerate(feasible_partitions[f'model_{model}']):\n",
    "                feasible_history = {}\n",
    "                feasible_history['index'] = index\n",
    "                feasible_history['station_0'] = []\n",
    "                completed_tasks = partition[0]\n",
    "                for station in range(1,NO_S):\n",
    "                    feasible_history[f'station_{station}'] = []\n",
    "                    feasible_history[f'station_{station}'].append(completed_tasks.copy())\n",
    "                    completed_tasks = completed_tasks + partition[station]\n",
    "                feasible_histories.append(feasible_history)\n",
    "            model_histories[f'model_{model}'] = feasible_histories\n",
    "    return model_histories\n",
    "model_histories = create_model_histories(feasible_partitions,models, NO_S)"
   ]
  },
  {
   "cell_type": "code",
   "execution_count": 15,
   "metadata": {},
   "outputs": [],
   "source": [
    "import copy\n",
    "def create_picture_hist(picture, D, d, d_count, model_histories, current_station, no_s):\n",
    "    if current_station == no_s:\n",
    "            d_copy = copy.deepcopy(d)\n",
    "            d_copy['index'] = d_count\n",
    "            D.append(d_copy)\n",
    "            return d_count + 1\n",
    "    for history in model_histories[f'model_{picture[current_station]}']:\n",
    "        d_copy = copy.deepcopy(d)\n",
    "        d_copy[f'model_at_{current_station}'] = picture[current_station]\n",
    "        d_copy[f'history_at_{current_station}'] = history[f'station_{current_station}']\n",
    "        d_count = create_picture_hist(picture, D, d_copy, d_count, model_histories, current_station + 1, no_s)\n",
    "    return d_count\n",
    "D = []\n",
    "d_count = 0\n",
    "for picture in omega:\n",
    "    picture_hist = []\n",
    "    d_count = create_picture_hist(picture, picture_hist, {},d_count,  model_histories, 0, NO_S)\n",
    "    D = D + picture_hist"
   ]
  },
  {
   "cell_type": "code",
   "execution_count": 16,
   "metadata": {},
   "outputs": [
    {
     "data": {
      "text/plain": [
       "{'model_at_0': '1',\n",
       " 'history_at_0': [],\n",
       " 'model_at_1': '1',\n",
       " 'history_at_1': [['1']],\n",
       " 'index': 323}"
      ]
     },
     "execution_count": 16,
     "metadata": {},
     "output_type": "execute_result"
    }
   ],
   "source": [
    "for d in D:\n",
    "    action = {}\n",
    "    for station in range(NO_S):\n",
    "        "
   ]
  },
  {
   "cell_type": "code",
   "execution_count": null,
   "metadata": {},
   "outputs": [],
   "source": []
  }
 ],
 "metadata": {
  "kernelspec": {
   "display_name": "base",
   "language": "python",
   "name": "python3"
  },
  "language_info": {
   "codemirror_mode": {
    "name": "ipython",
    "version": 3
   },
   "file_extension": ".py",
   "mimetype": "text/x-python",
   "name": "python",
   "nbconvert_exporter": "python",
   "pygments_lexer": "ipython3",
   "version": "3.9.13"
  },
  "orig_nbformat": 4
 },
 "nbformat": 4,
 "nbformat_minor": 2
}
